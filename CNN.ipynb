{
 "cells": [
  {
   "cell_type": "code",
   "execution_count": 1,
   "metadata": {},
   "outputs": [
    {
     "name": "stderr",
     "output_type": "stream",
     "text": [
      "Using TensorFlow backend.\n"
     ]
    }
   ],
   "source": [
    "import numpy as np\n",
    "import pandas as pd\n",
    "import matplotlib.pyplot as plt\n",
    "import keras\n",
    "import os\n",
    "import cv2"
   ]
  },
  {
   "cell_type": "code",
   "execution_count": 2,
   "metadata": {},
   "outputs": [],
   "source": [
    "datadir='C:/Users/Lenovo/Desktop/Ram_Perceptrons/CNN/Fruits2'\n",
    "categories=['Apple','Orange','Banana']"
   ]
  },
  {
   "cell_type": "markdown",
   "metadata": {},
   "source": [
    "# Converting images to matrix"
   ]
  },
  {
   "cell_type": "code",
   "execution_count": 3,
   "metadata": {},
   "outputs": [],
   "source": [
    "dataset=[]\n",
    "dim=80\n",
    "for c in categories:\n",
    "    category_loc=os.path.join(datadir,c)\n",
    "    if c=='Apple':\n",
    "        label=0\n",
    "    elif c=='Orange':\n",
    "        label=1\n",
    "    else:\n",
    "        label=2\n",
    "    for img in os.listdir(category_loc):\n",
    "        images=cv2.imread(os.path.join(category_loc,img),cv2.IMREAD_GRAYSCALE)\n",
    "        images=cv2.resize(images,(dim,dim))\n",
    "        dataset.append([images,label])"
   ]
  },
  {
   "cell_type": "code",
   "execution_count": 4,
   "metadata": {},
   "outputs": [
    {
     "data": {
      "text/plain": [
       "[array([[255, 255, 255, ..., 255, 255, 255],\n",
       "        [255, 255, 255, ..., 255, 255, 255],\n",
       "        [255, 255, 255, ..., 255, 255, 255],\n",
       "        ...,\n",
       "        [255, 255, 255, ..., 255, 255, 255],\n",
       "        [255, 255, 255, ..., 255, 255, 255],\n",
       "        [255, 255, 255, ..., 255, 255, 255]], dtype=uint8), 0]"
      ]
     },
     "execution_count": 4,
     "metadata": {},
     "output_type": "execute_result"
    }
   ],
   "source": [
    "dataset[0]"
   ]
  },
  {
   "cell_type": "code",
   "execution_count": 5,
   "metadata": {},
   "outputs": [],
   "source": [
    "import random\n",
    "random.shuffle(dataset)"
   ]
  },
  {
   "cell_type": "code",
   "execution_count": 6,
   "metadata": {},
   "outputs": [],
   "source": [
    "X=[]\n",
    "y=[]\n",
    "for i in dataset:\n",
    "    X.append(i[0])\n",
    "    y.append(i[1])"
   ]
  },
  {
   "cell_type": "code",
   "execution_count": 7,
   "metadata": {},
   "outputs": [
    {
     "data": {
      "text/plain": [
       "array([[105, 143, 175, ..., 207, 194, 173],\n",
       "       [125, 164, 180, ..., 195, 189, 172],\n",
       "       [135, 161, 178, ..., 177, 181, 177],\n",
       "       ...,\n",
       "       [ 68,  75,  84, ..., 147, 147, 142],\n",
       "       [ 81,  85,  87, ..., 139, 139, 141],\n",
       "       [ 98,  97,  97, ..., 136, 136, 140]], dtype=uint8)"
      ]
     },
     "execution_count": 7,
     "metadata": {},
     "output_type": "execute_result"
    }
   ],
   "source": [
    "X[0]"
   ]
  },
  {
   "cell_type": "code",
   "execution_count": 8,
   "metadata": {},
   "outputs": [
    {
     "data": {
      "image/png": "[encoded data removed]",
      "text/plain": [
       "<Figure size 432x288 with 1 Axes>"
      ]
     },
     "metadata": {
      "needs_background": "light"
     },
     "output_type": "display_data"
    }
   ],
   "source": [
    "plt.imshow(X[0],cmap='gray')\n",
    "plt.show()"
   ]
  },
  {
   "cell_type": "code",
   "execution_count": 9,
   "metadata": {
    "scrolled": true
   },
   "outputs": [
    {
     "data": {
      "text/plain": [
       "0"
      ]
     },
     "execution_count": 9,
     "metadata": {},
     "output_type": "execute_result"
    }
   ],
   "source": [
    "y[0]"
   ]
  },
  {
   "cell_type": "code",
   "execution_count": 10,
   "metadata": {},
   "outputs": [
    {
     "data": {
      "text/plain": [
       "[0,\n",
       " 0,\n",
       " 1,\n",
       " 1,\n",
       " 0,\n",
       " 1,\n",
       " 1,\n",
       " 2,\n",
       " 0,\n",
       " 1,\n",
       " 0,\n",
       " 0,\n",
       " 2,\n",
       " 0,\n",
       " 0,\n",
       " 2,\n",
       " 0,\n",
       " 1,\n",
       " 2,\n",
       " 2,\n",
       " 2,\n",
       " 0,\n",
       " 1,\n",
       " 0,\n",
       " 0,\n",
       " 2,\n",
       " 2,\n",
       " 2,\n",
       " 1,\n",
       " 0,\n",
       " 2,\n",
       " 0,\n",
       " 1,\n",
       " 2,\n",
       " 2,\n",
       " 2,\n",
       " 1,\n",
       " 2,\n",
       " 0,\n",
       " 0,\n",
       " 0,\n",
       " 2,\n",
       " 1,\n",
       " 1,\n",
       " 0,\n",
       " 1,\n",
       " 0,\n",
       " 1,\n",
       " 2,\n",
       " 0,\n",
       " 1,\n",
       " 2,\n",
       " 1,\n",
       " 1,\n",
       " 0,\n",
       " 0,\n",
       " 2,\n",
       " 1,\n",
       " 1,\n",
       " 2,\n",
       " 1,\n",
       " 0,\n",
       " 0,\n",
       " 0,\n",
       " 2,\n",
       " 1,\n",
       " 2,\n",
       " 2,\n",
       " 1,\n",
       " 1,\n",
       " 2,\n",
       " 2,\n",
       " 2,\n",
       " 1,\n",
       " 2,\n",
       " 0,\n",
       " 0,\n",
       " 0,\n",
       " 2,\n",
       " 0,\n",
       " 1,\n",
       " 0,\n",
       " 1,\n",
       " 1,\n",
       " 0,\n",
       " 0,\n",
       " 0,\n",
       " 0,\n",
       " 1,\n",
       " 1,\n",
       " 1,\n",
       " 2,\n",
       " 2,\n",
       " 2,\n",
       " 0,\n",
       " 0,\n",
       " 1,\n",
       " 0,\n",
       " 2,\n",
       " 2,\n",
       " 1,\n",
       " 2,\n",
       " 2,\n",
       " 1,\n",
       " 2,\n",
       " 2,\n",
       " 0,\n",
       " 1,\n",
       " 2,\n",
       " 1,\n",
       " 1,\n",
       " 2,\n",
       " 2,\n",
       " 0,\n",
       " 2,\n",
       " 2,\n",
       " 1,\n",
       " 0,\n",
       " 1,\n",
       " 1,\n",
       " 1,\n",
       " 1,\n",
       " 1,\n",
       " 0,\n",
       " 0,\n",
       " 2,\n",
       " 1,\n",
       " 0,\n",
       " 0,\n",
       " 2,\n",
       " 2,\n",
       " 2,\n",
       " 1,\n",
       " 2,\n",
       " 2,\n",
       " 2,\n",
       " 1,\n",
       " 1,\n",
       " 0,\n",
       " 2,\n",
       " 1,\n",
       " 1,\n",
       " 0,\n",
       " 1,\n",
       " 0,\n",
       " 0,\n",
       " 1,\n",
       " 2,\n",
       " 0,\n",
       " 0]"
      ]
     },
     "execution_count": 10,
     "metadata": {},
     "output_type": "execute_result"
    }
   ],
   "source": [
    "y"
   ]
  },
  {
   "cell_type": "code",
   "execution_count": 11,
   "metadata": {},
   "outputs": [],
   "source": [
    "X=np.array(X)\n",
    "y=np.array(y)"
   ]
  },
  {
   "cell_type": "code",
   "execution_count": 12,
   "metadata": {},
   "outputs": [
    {
     "data": {
      "text/plain": [
       "array([0, 0, 1, 1, 0, 1, 1, 2, 0, 1, 0, 0, 2, 0, 0, 2, 0, 1, 2, 2, 2, 0,\n",
       "       1, 0, 0, 2, 2, 2, 1, 0, 2, 0, 1, 2, 2, 2, 1, 2, 0, 0, 0, 2, 1, 1,\n",
       "       0, 1, 0, 1, 2, 0, 1, 2, 1, 1, 0, 0, 2, 1, 1, 2, 1, 0, 0, 0, 2, 1,\n",
       "       2, 2, 1, 1, 2, 2, 2, 1, 2, 0, 0, 0, 2, 0, 1, 0, 1, 1, 0, 0, 0, 0,\n",
       "       1, 1, 1, 2, 2, 2, 0, 0, 1, 0, 2, 2, 1, 2, 2, 1, 2, 2, 0, 1, 2, 1,\n",
       "       1, 2, 2, 0, 2, 2, 1, 0, 1, 1, 1, 1, 1, 0, 0, 2, 1, 0, 0, 2, 2, 2,\n",
       "       1, 2, 2, 2, 1, 1, 0, 2, 1, 1, 0, 1, 0, 0, 1, 2, 0, 0])"
      ]
     },
     "execution_count": 12,
     "metadata": {},
     "output_type": "execute_result"
    }
   ],
   "source": [
    "y"
   ]
  },
  {
   "cell_type": "code",
   "execution_count": 13,
   "metadata": {},
   "outputs": [
    {
     "data": {
      "text/plain": [
       "(150, 80, 80)"
      ]
     },
     "execution_count": 13,
     "metadata": {},
     "output_type": "execute_result"
    }
   ],
   "source": [
    "X.shape"
   ]
  },
  {
   "cell_type": "code",
   "execution_count": 14,
   "metadata": {},
   "outputs": [
    {
     "data": {
      "text/plain": [
       "(150, 80, 80, 1)"
      ]
     },
     "execution_count": 14,
     "metadata": {},
     "output_type": "execute_result"
    }
   ],
   "source": [
    "X=X.reshape(-1,dim,dim,1)\n",
    "X=X.astype('float')\n",
    "X.shape"
   ]
  },
  {
   "cell_type": "code",
   "execution_count": 15,
   "metadata": {},
   "outputs": [],
   "source": [
    "X/=255"
   ]
  },
  {
   "cell_type": "markdown",
   "metadata": {},
   "source": [
    "# Splitting into train and test data"
   ]
  },
  {
   "cell_type": "code",
   "execution_count": 16,
   "metadata": {},
   "outputs": [],
   "source": [
    "from sklearn.model_selection import train_test_split as tts\n",
    "X_train,X_test,y_train,y_test=tts(X,y,test_size=0.2,random_state=0)"
   ]
  },
  {
   "cell_type": "markdown",
   "metadata": {},
   "source": [
    "# CNN"
   ]
  },
  {
   "cell_type": "code",
   "execution_count": 17,
   "metadata": {},
   "outputs": [],
   "source": [
    "from keras.models import Sequential\n",
    "from keras.layers import Conv2D,MaxPool2D,Dense,Flatten,Dropout\n",
    "model=Sequential()"
   ]
  },
  {
   "cell_type": "code",
   "execution_count": 18,
   "metadata": {},
   "outputs": [
    {
     "name": "stdout",
     "output_type": "stream",
     "text": [
      "WARNING:tensorflow:From C:\\Users\\Lenovo\\Anaconda3\\lib\\site-packages\\keras\\backend\\tensorflow_backend.py:4070: The name tf.nn.max_pool is deprecated. Please use tf.nn.max_pool2d instead.\n",
      "\n"
     ]
    }
   ],
   "source": [
    "model.add(Conv2D(80,(3,3),input_shape=(dim,dim,1)))\n",
    "model.add(MaxPool2D(pool_size=(2,2)))\n",
    "\n",
    "model.add(Conv2D(80,kernel_size=(3,3)))\n",
    "model.add(MaxPool2D(pool_size=(2,2)))\n",
    "\n",
    "model.add(Flatten())\n",
    "model.add(Dense(80,activation='relu'))\n",
    "model.add(Dropout(0.5))\n",
    "model.add(Dense(3,activation='softmax'))\n",
    "\n",
    "model.compile(optimizer='adam',loss='sparse_categorical_crossentropy',metrics=['accuracy'])"
   ]
  },
  {
   "cell_type": "code",
   "execution_count": 19,
   "metadata": {},
   "outputs": [
    {
     "name": "stdout",
     "output_type": "stream",
     "text": [
      "WARNING:tensorflow:From C:\\Users\\Lenovo\\Anaconda3\\lib\\site-packages\\keras\\backend\\tensorflow_backend.py:422: The name tf.global_variables is deprecated. Please use tf.compat.v1.global_variables instead.\n",
      "\n",
      "Epoch 1/50\n",
      "120/120 [==============================] - 2s 17ms/step - loss: 1.5336 - accuracy: 0.2667\n",
      "Epoch 2/50\n",
      "120/120 [==============================] - 2s 14ms/step - loss: 1.2391 - accuracy: 0.3917\n",
      "Epoch 3/50\n",
      "120/120 [==============================] - 2s 14ms/step - loss: 1.0695 - accuracy: 0.4500\n",
      "Epoch 4/50\n",
      "120/120 [==============================] - 2s 14ms/step - loss: 0.9830 - accuracy: 0.5250\n",
      "Epoch 5/50\n",
      "120/120 [==============================] - 2s 15ms/step - loss: 0.9252 - accuracy: 0.5333\n",
      "Epoch 6/50\n",
      "120/120 [==============================] - 2s 14ms/step - loss: 0.8383 - accuracy: 0.6500\n",
      "Epoch 7/50\n",
      "120/120 [==============================] - 2s 14ms/step - loss: 0.8269 - accuracy: 0.5500\n",
      "Epoch 8/50\n",
      "120/120 [==============================] - 2s 14ms/step - loss: 0.7493 - accuracy: 0.6333\n",
      "Epoch 9/50\n",
      "120/120 [==============================] - 2s 14ms/step - loss: 0.7238 - accuracy: 0.6667\n",
      "Epoch 10/50\n",
      "120/120 [==============================] - 2s 14ms/step - loss: 0.7077 - accuracy: 0.6417\n",
      "Epoch 11/50\n",
      "120/120 [==============================] - 2s 14ms/step - loss: 0.6610 - accuracy: 0.7250\n",
      "Epoch 12/50\n",
      "120/120 [==============================] - 2s 14ms/step - loss: 0.5744 - accuracy: 0.8167\n",
      "Epoch 13/50\n",
      "120/120 [==============================] - 2s 14ms/step - loss: 0.6000 - accuracy: 0.7417\n",
      "Epoch 14/50\n",
      "120/120 [==============================] - 2s 14ms/step - loss: 0.5122 - accuracy: 0.7833\n",
      "Epoch 15/50\n",
      "120/120 [==============================] - 2s 14ms/step - loss: 0.4620 - accuracy: 0.7667\n",
      "Epoch 16/50\n",
      "120/120 [==============================] - 2s 14ms/step - loss: 0.4730 - accuracy: 0.8000\n",
      "Epoch 17/50\n",
      "120/120 [==============================] - 2s 14ms/step - loss: 0.4418 - accuracy: 0.8167\n",
      "Epoch 18/50\n",
      "120/120 [==============================] - 2s 14ms/step - loss: 0.4400 - accuracy: 0.7750\n",
      "Epoch 19/50\n",
      "120/120 [==============================] - 2s 14ms/step - loss: 0.4106 - accuracy: 0.8417\n",
      "Epoch 20/50\n",
      "120/120 [==============================] - 2s 14ms/step - loss: 0.3440 - accuracy: 0.8333\n",
      "Epoch 21/50\n",
      "120/120 [==============================] - 2s 14ms/step - loss: 0.3101 - accuracy: 0.8500\n",
      "Epoch 22/50\n",
      "120/120 [==============================] - 2s 14ms/step - loss: 0.2786 - accuracy: 0.9000\n",
      "Epoch 23/50\n",
      "120/120 [==============================] - 2s 14ms/step - loss: 0.3359 - accuracy: 0.8917\n",
      "Epoch 24/50\n",
      "120/120 [==============================] - 2s 14ms/step - loss: 0.2566 - accuracy: 0.9083\n",
      "Epoch 25/50\n",
      "120/120 [==============================] - 2s 14ms/step - loss: 0.2391 - accuracy: 0.9083\n",
      "Epoch 26/50\n",
      "120/120 [==============================] - 2s 14ms/step - loss: 0.2432 - accuracy: 0.9000\n",
      "Epoch 27/50\n",
      "120/120 [==============================] - 2s 15ms/step - loss: 0.2151 - accuracy: 0.9500\n",
      "Epoch 28/50\n",
      "120/120 [==============================] - 2s 15ms/step - loss: 0.1947 - accuracy: 0.9583\n",
      "Epoch 29/50\n",
      "120/120 [==============================] - 2s 14ms/step - loss: 0.1836 - accuracy: 0.9417\n",
      "Epoch 30/50\n",
      "120/120 [==============================] - 2s 14ms/step - loss: 0.1984 - accuracy: 0.9167\n",
      "Epoch 31/50\n",
      "120/120 [==============================] - 2s 14ms/step - loss: 0.1532 - accuracy: 0.9583\n",
      "Epoch 32/50\n",
      "120/120 [==============================] - 2s 14ms/step - loss: 0.1762 - accuracy: 0.9500\n",
      "Epoch 33/50\n",
      "120/120 [==============================] - 2s 14ms/step - loss: 0.2029 - accuracy: 0.9417\n",
      "Epoch 34/50\n",
      "120/120 [==============================] - 2s 14ms/step - loss: 0.0973 - accuracy: 0.9833\n",
      "Epoch 35/50\n",
      "120/120 [==============================] - 2s 14ms/step - loss: 0.1106 - accuracy: 0.9667\n",
      "Epoch 36/50\n",
      "120/120 [==============================] - 2s 14ms/step - loss: 0.1197 - accuracy: 0.9667\n",
      "Epoch 37/50\n",
      "120/120 [==============================] - 2s 14ms/step - loss: 0.1016 - accuracy: 0.9750\n",
      "Epoch 38/50\n",
      "120/120 [==============================] - 2s 14ms/step - loss: 0.1525 - accuracy: 0.9750\n",
      "Epoch 39/50\n",
      "120/120 [==============================] - 2s 14ms/step - loss: 0.1105 - accuracy: 0.9583\n",
      "Epoch 40/50\n",
      "120/120 [==============================] - 2s 14ms/step - loss: 0.0870 - accuracy: 0.9750\n",
      "Epoch 41/50\n",
      "120/120 [==============================] - 2s 14ms/step - loss: 0.1194 - accuracy: 0.9500\n",
      "Epoch 42/50\n",
      "120/120 [==============================] - 2s 14ms/step - loss: 0.0980 - accuracy: 0.9833\n",
      "Epoch 43/50\n",
      "120/120 [==============================] - 2s 14ms/step - loss: 0.0532 - accuracy: 0.9917\n",
      "Epoch 44/50\n",
      "120/120 [==============================] - 2s 14ms/step - loss: 0.1653 - accuracy: 0.9333\n",
      "Epoch 45/50\n",
      "120/120 [==============================] - 2s 15ms/step - loss: 0.0745 - accuracy: 0.9667\n",
      "Epoch 46/50\n",
      "120/120 [==============================] - 2s 14ms/step - loss: 0.0311 - accuracy: 1.0000\n",
      "Epoch 47/50\n",
      "120/120 [==============================] - 2s 14ms/step - loss: 0.0689 - accuracy: 0.9917\n",
      "Epoch 48/50\n",
      "120/120 [==============================] - 2s 14ms/step - loss: 0.0955 - accuracy: 0.9667\n",
      "Epoch 49/50\n",
      "120/120 [==============================] - 2s 14ms/step - loss: 0.0668 - accuracy: 0.9833\n",
      "Epoch 50/50\n",
      "120/120 [==============================] - 2s 14ms/step - loss: 0.0736 - accuracy: 0.9750\n"
     ]
    },
    {
     "data": {
      "text/plain": [
       "<keras.callbacks.callbacks.History at 0x2180d29bfd0>"
      ]
     },
     "execution_count": 19,
     "metadata": {},
     "output_type": "execute_result"
    }
   ],
   "source": [
    "model.fit(X_train,y_train,epochs=50)"
   ]
  },
  {
   "cell_type": "code",
   "execution_count": 20,
   "metadata": {},
   "outputs": [
    {
     "data": {
      "text/plain": [
       "array([[1.8046759e-02, 3.7486234e+00, 9.6233330e+01],\n",
       "       [6.2064569e-02, 8.9951429e+00, 9.0942795e+01],\n",
       "       [1.6275906e-03, 9.9998367e+01, 1.0897243e-06],\n",
       "       [4.9042706e+00, 9.5095352e+01, 3.8309096e-04],\n",
       "       [9.1714937e-06, 1.9097896e-02, 9.9980896e+01],\n",
       "       [6.1185074e+01, 3.8814926e+01, 2.9734210e-06],\n",
       "       [9.9999893e+01, 1.0561366e-04, 9.2626201e-10],\n",
       "       [9.8347282e+01, 1.6371801e+00, 1.5534429e-02],\n",
       "       [1.0000000e+02, 6.3843160e-08, 1.3137927e-14],\n",
       "       [4.8060212e-08, 2.9848242e-02, 9.9970146e+01],\n",
       "       [6.9264718e-07, 3.4811143e-02, 9.9965195e+01],\n",
       "       [1.0314816e+00, 9.8961678e+01, 6.8420931e-03],\n",
       "       [2.6064160e-01, 9.9733932e+01, 5.4273796e-03],\n",
       "       [2.0165178e-01, 9.9766632e+01, 3.1719889e-02],\n",
       "       [2.1575016e-01, 9.9782570e+01, 1.6776723e-03],\n",
       "       [5.1362977e+00, 9.4863678e+01, 1.9631918e-05],\n",
       "       [1.9114774e-04, 6.7116812e-02, 9.9932693e+01],\n",
       "       [2.3245134e+01, 7.6718414e+01, 3.6458239e-02],\n",
       "       [3.2444664e+01, 6.7555305e+01, 2.9848678e-05],\n",
       "       [9.9919670e+01, 7.4397139e-02, 5.9300675e-03],\n",
       "       [1.0879764e+01, 2.1348629e+01, 6.7771606e+01],\n",
       "       [1.9438223e-04, 3.3382314e-01, 9.9665985e+01],\n",
       "       [3.2223020e+00, 9.6656158e+01, 1.2153825e-01],\n",
       "       [1.2824367e+01, 6.8586014e+01, 1.8589615e+01],\n",
       "       [3.4593258e+01, 6.5404793e+01, 1.9513426e-03],\n",
       "       [9.5094032e+01, 4.9058771e+00, 8.7830151e-05],\n",
       "       [8.8668365e+00, 9.1128006e+01, 5.1553892e-03],\n",
       "       [9.8593872e+01, 1.3908540e+00, 1.5282855e-02],\n",
       "       [4.9746654e-06, 8.6962745e-02, 9.9913033e+01],\n",
       "       [1.8551204e-04, 2.0621927e+00, 9.7937622e+01]], dtype=float32)"
      ]
     },
     "execution_count": 20,
     "metadata": {},
     "output_type": "execute_result"
    }
   ],
   "source": [
    "predict=model.predict(X_test)\n",
    "predict*100"
   ]
  },
  {
   "cell_type": "code",
   "execution_count": 21,
   "metadata": {},
   "outputs": [
    {
     "data": {
      "text/plain": [
       "array([2, 0, 2, 1, 2, 1, 0, 0, 0, 2, 2, 2, 1, 0, 0, 2, 2, 1, 1, 0, 1, 2,\n",
       "       0, 0, 1, 1, 0, 0, 2, 2])"
      ]
     },
     "execution_count": 21,
     "metadata": {},
     "output_type": "execute_result"
    }
   ],
   "source": [
    "y_test"
   ]
  },
  {
   "cell_type": "code",
   "execution_count": 22,
   "metadata": {},
   "outputs": [],
   "source": [
    "def new_pred(loc):\n",
    "    images=cv2.imread(loc,cv2.IMREAD_GRAYSCALE)\n",
    "    images=cv2.resize(images,(dim,dim))\n",
    "    x_new=np.array(images)\n",
    "    x_new=x_new.reshape(-1,dim,dim,1)\n",
    "    x_new=x_new.astype('float')\n",
    "    x_new/=255\n",
    "    return pd.DataFrame(model.predict(x_new)*100)"
   ]
  },
  {
   "cell_type": "markdown",
   "metadata": {},
   "source": [
    "# Prediction for single image"
   ]
  },
  {
   "cell_type": "code",
   "execution_count": 23,
   "metadata": {},
   "outputs": [
    {
     "data": {
      "text/html": [
       "<div>\n",
       "<style scoped>\n",
       "    .dataframe tbody tr th:only-of-type {\n",
       "        vertical-align: middle;\n",
       "    }\n",
       "\n",
       "    .dataframe tbody tr th {\n",
       "        vertical-align: top;\n",
       "    }\n",
       "\n",
       "    .dataframe thead th {\n",
       "        text-align: right;\n",
       "    }\n",
       "</style>\n",
       "<table border=\"1\" class=\"dataframe\">\n",
       "  <thead>\n",
       "    <tr style=\"text-align: right;\">\n",
       "      <th></th>\n",
       "      <th>0</th>\n",
       "      <th>1</th>\n",
       "      <th>2</th>\n",
       "    </tr>\n",
       "  </thead>\n",
       "  <tbody>\n",
       "    <tr>\n",
       "      <th>0</th>\n",
       "      <td>100.0</td>\n",
       "      <td>0.000005</td>\n",
       "      <td>4.034429e-10</td>\n",
       "    </tr>\n",
       "  </tbody>\n",
       "</table>\n",
       "</div>"
      ],
      "text/plain": [
       "       0         1             2\n",
       "0  100.0  0.000005  4.034429e-10"
      ]
     },
     "execution_count": 23,
     "metadata": {},
     "output_type": "execute_result"
    }
   ],
   "source": [
    "loc='C:/Users/Lenovo/Desktop/Ram_Perceptrons/CNN/Fruits/22.jpg'\n",
    "new_pred(loc)"
   ]
  },
  {
   "cell_type": "code",
   "execution_count": 24,
   "metadata": {
    "scrolled": true
   },
   "outputs": [
    {
     "data": {
      "text/html": [
       "<div>\n",
       "<style scoped>\n",
       "    .dataframe tbody tr th:only-of-type {\n",
       "        vertical-align: middle;\n",
       "    }\n",
       "\n",
       "    .dataframe tbody tr th {\n",
       "        vertical-align: top;\n",
       "    }\n",
       "\n",
       "    .dataframe thead th {\n",
       "        text-align: right;\n",
       "    }\n",
       "</style>\n",
       "<table border=\"1\" class=\"dataframe\">\n",
       "  <thead>\n",
       "    <tr style=\"text-align: right;\">\n",
       "      <th></th>\n",
       "      <th>0</th>\n",
       "      <th>1</th>\n",
       "      <th>2</th>\n",
       "    </tr>\n",
       "  </thead>\n",
       "  <tbody>\n",
       "    <tr>\n",
       "      <th>0</th>\n",
       "      <td>4.904277</td>\n",
       "      <td>95.095337</td>\n",
       "      <td>0.000383</td>\n",
       "    </tr>\n",
       "  </tbody>\n",
       "</table>\n",
       "</div>"
      ],
      "text/plain": [
       "          0          1         2\n",
       "0  4.904277  95.095337  0.000383"
      ]
     },
     "execution_count": 24,
     "metadata": {},
     "output_type": "execute_result"
    }
   ],
   "source": [
    "loc='C:/Users/Lenovo/Desktop/Ram_Perceptrons/CNN/Fruits/77.jpg'\n",
    "new_pred(loc)"
   ]
  },
  {
   "cell_type": "code",
   "execution_count": 25,
   "metadata": {},
   "outputs": [
    {
     "data": {
      "text/html": [
       "<div>\n",
       "<style scoped>\n",
       "    .dataframe tbody tr th:only-of-type {\n",
       "        vertical-align: middle;\n",
       "    }\n",
       "\n",
       "    .dataframe tbody tr th {\n",
       "        vertical-align: top;\n",
       "    }\n",
       "\n",
       "    .dataframe thead th {\n",
       "        text-align: right;\n",
       "    }\n",
       "</style>\n",
       "<table border=\"1\" class=\"dataframe\">\n",
       "  <thead>\n",
       "    <tr style=\"text-align: right;\">\n",
       "      <th></th>\n",
       "      <th>0</th>\n",
       "      <th>1</th>\n",
       "      <th>2</th>\n",
       "    </tr>\n",
       "  </thead>\n",
       "  <tbody>\n",
       "    <tr>\n",
       "      <th>0</th>\n",
       "      <td>97.973839</td>\n",
       "      <td>2.026165</td>\n",
       "      <td>0.000003</td>\n",
       "    </tr>\n",
       "  </tbody>\n",
       "</table>\n",
       "</div>"
      ],
      "text/plain": [
       "           0         1         2\n",
       "0  97.973839  2.026165  0.000003"
      ]
     },
     "execution_count": 25,
     "metadata": {},
     "output_type": "execute_result"
    }
   ],
   "source": [
    "loc='C:/Users/Lenovo/Desktop/Ram_Perceptrons/CNN/Fruits/test-a3.jpg'\n",
    "new_pred(loc)"
   ]
  },
  {
   "cell_type": "code",
   "execution_count": 26,
   "metadata": {},
   "outputs": [
    {
     "data": {
      "text/html": [
       "<div>\n",
       "<style scoped>\n",
       "    .dataframe tbody tr th:only-of-type {\n",
       "        vertical-align: middle;\n",
       "    }\n",
       "\n",
       "    .dataframe tbody tr th {\n",
       "        vertical-align: top;\n",
       "    }\n",
       "\n",
       "    .dataframe thead th {\n",
       "        text-align: right;\n",
       "    }\n",
       "</style>\n",
       "<table border=\"1\" class=\"dataframe\">\n",
       "  <thead>\n",
       "    <tr style=\"text-align: right;\">\n",
       "      <th></th>\n",
       "      <th>0</th>\n",
       "      <th>1</th>\n",
       "      <th>2</th>\n",
       "    </tr>\n",
       "  </thead>\n",
       "  <tbody>\n",
       "    <tr>\n",
       "      <th>0</th>\n",
       "      <td>68.457451</td>\n",
       "      <td>31.509966</td>\n",
       "      <td>0.032586</td>\n",
       "    </tr>\n",
       "  </tbody>\n",
       "</table>\n",
       "</div>"
      ],
      "text/plain": [
       "           0          1         2\n",
       "0  68.457451  31.509966  0.032586"
      ]
     },
     "execution_count": 26,
     "metadata": {},
     "output_type": "execute_result"
    }
   ],
   "source": [
    "loc='C:/Users/Lenovo/Desktop/Ram_Perceptrons/CNN/Fruits/test-a4.jpg'\n",
    "new_pred(loc)"
   ]
  },
  {
   "cell_type": "code",
   "execution_count": 27,
   "metadata": {},
   "outputs": [
    {
     "data": {
      "text/html": [
       "<div>\n",
       "<style scoped>\n",
       "    .dataframe tbody tr th:only-of-type {\n",
       "        vertical-align: middle;\n",
       "    }\n",
       "\n",
       "    .dataframe tbody tr th {\n",
       "        vertical-align: top;\n",
       "    }\n",
       "\n",
       "    .dataframe thead th {\n",
       "        text-align: right;\n",
       "    }\n",
       "</style>\n",
       "<table border=\"1\" class=\"dataframe\">\n",
       "  <thead>\n",
       "    <tr style=\"text-align: right;\">\n",
       "      <th></th>\n",
       "      <th>0</th>\n",
       "      <th>1</th>\n",
       "      <th>2</th>\n",
       "    </tr>\n",
       "  </thead>\n",
       "  <tbody>\n",
       "    <tr>\n",
       "      <th>0</th>\n",
       "      <td>2.801845e-09</td>\n",
       "      <td>0.040917</td>\n",
       "      <td>99.959084</td>\n",
       "    </tr>\n",
       "  </tbody>\n",
       "</table>\n",
       "</div>"
      ],
      "text/plain": [
       "              0         1          2\n",
       "0  2.801845e-09  0.040917  99.959084"
      ]
     },
     "execution_count": 27,
     "metadata": {},
     "output_type": "execute_result"
    }
   ],
   "source": [
    "loc='C:/Users/Lenovo/Desktop/Ram_Perceptrons/CNN/Fruits/test-b.jpg'\n",
    "new_pred(loc)"
   ]
  },
  {
   "cell_type": "code",
   "execution_count": null,
   "metadata": {},
   "outputs": [],
   "source": []
  }
 ],
 "metadata": {
  "kernelspec": {
   "display_name": "Python 3",
   "language": "python",
   "name": "python3"
  },
  "language_info": {
   "codemirror_mode": {
    "name": "ipython",
    "version": 3
   },
   "file_extension": ".py",
   "mimetype": "text/x-python",
   "name": "python",
   "nbconvert_exporter": "python",
   "pygments_lexer": "ipython3",
   "version": "3.7.3"
  }
 },
 "nbformat": 4,
 "nbformat_minor": 2
}
